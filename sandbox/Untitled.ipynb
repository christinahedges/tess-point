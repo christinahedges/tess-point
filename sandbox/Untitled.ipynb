{
 "cells": [
  {
   "cell_type": "code",
   "execution_count": 4,
   "id": "a04d0bdb-dcd4-4ac3-91c4-00bdc8e2f559",
   "metadata": {},
   "outputs": [],
   "source": [
    "import tess_stars2px"
   ]
  },
  {
   "cell_type": "code",
   "execution_count": 5,
   "id": "7d621089-535f-4f64-929a-10c6b6e32e8f",
   "metadata": {},
   "outputs": [
    {
     "ename": "TypeError",
     "evalue": "tess_stars2px_function_entry() missing 3 required positional arguments: 'starIDs', 'starRas', and 'starDecs'",
     "output_type": "error",
     "traceback": [
      "\u001b[0;31m---------------------------------------------------------------------------\u001b[0m",
      "\u001b[0;31mTypeError\u001b[0m                                 Traceback (most recent call last)",
      "\u001b[0;32m<ipython-input-5-1673b9f66fe8>\u001b[0m in \u001b[0;36m<module>\u001b[0;34m\u001b[0m\n\u001b[0;32m----> 1\u001b[0;31m \u001b[0mtess_stars2px\u001b[0m\u001b[0;34m.\u001b[0m\u001b[0mtess_stars2px_function_entry\u001b[0m\u001b[0;34m(\u001b[0m\u001b[0;34m)\u001b[0m\u001b[0;34m\u001b[0m\u001b[0;34m\u001b[0m\u001b[0m\n\u001b[0m",
      "\u001b[0;31mTypeError\u001b[0m: tess_stars2px_function_entry() missing 3 required positional arguments: 'starIDs', 'starRas', and 'starDecs'"
     ]
    }
   ],
   "source": [
    "tess_stars2px.tess_stars2px_function_entry()"
   ]
  },
  {
   "cell_type": "code",
   "execution_count": null,
   "id": "298f2c37-155d-4b40-ab2b-56be0e7efaa2",
   "metadata": {},
   "outputs": [],
   "source": []
  }
 ],
 "metadata": {
  "kernelspec": {
   "display_name": "Python 3",
   "language": "python",
   "name": "python3"
  },
  "language_info": {
   "codemirror_mode": {
    "name": "ipython",
    "version": 3
   },
   "file_extension": ".py",
   "mimetype": "text/x-python",
   "name": "python",
   "nbconvert_exporter": "python",
   "pygments_lexer": "ipython3",
   "version": "3.8.7"
  }
 },
 "nbformat": 4,
 "nbformat_minor": 5
}
