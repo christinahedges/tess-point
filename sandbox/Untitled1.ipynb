{
 "cells": [
  {
   "cell_type": "code",
   "execution_count": 1,
   "id": "55f69e88-247b-447e-987b-27237e8e8709",
   "metadata": {},
   "outputs": [],
   "source": [
    "%load_ext autoreload"
   ]
  },
  {
   "cell_type": "code",
   "execution_count": 26,
   "id": "3caaa90d-e07f-47ef-863f-494004817e45",
   "metadata": {},
   "outputs": [],
   "source": [
    "from tesspoint import TESSPoint, footprint\n",
    "import numpy as np"
   ]
  },
  {
   "cell_type": "code",
   "execution_count": 29,
   "id": "3e3dde7e-509a-45af-9da5-3ab94d8b51d2",
   "metadata": {},
   "outputs": [],
   "source": [
    "from tesspoint.tesspoint import sphereToCart, cartToSphere"
   ]
  },
  {
   "cell_type": "code",
   "execution_count": 8,
   "id": "90be8053-fc0e-4b4b-b3d7-aaa40b9d1b48",
   "metadata": {},
   "outputs": [],
   "source": [
    "self = TESSPoint(1, 1, 1)"
   ]
  },
  {
   "cell_type": "code",
   "execution_count": 12,
   "id": "80dfcb83-c602-4297-a120-4518b698f7c0",
   "metadata": {},
   "outputs": [],
   "source": [
    "coords = self.pix2radec(footprint())"
   ]
  },
  {
   "cell_type": "code",
   "execution_count": 18,
   "id": "5e3e68b4-fcec-4c02-8984-52ef31480077",
   "metadata": {},
   "outputs": [],
   "source": [
    "vecs = sphereToCart(*coords)"
   ]
  },
  {
   "cell_type": "code",
   "execution_count": 108,
   "id": "5974ec91-1c91-4d07-a285-609e27875cf9",
   "metadata": {},
   "outputs": [
    {
     "data": {
      "text/plain": [
       "array([145.948116  ,   1.0000014 ,   0.24779006,  -0.22681254,\n",
       "        10.78243356, -34.97817276])"
      ]
     },
     "execution_count": 108,
     "metadata": {},
     "output_type": "execute_result"
    }
   ],
   "source": [
    "self.opt_coeffs"
   ]
  },
  {
   "cell_type": "code",
   "execution_count": null,
   "id": "a158e3e8-185e-4a26-add9-4df7895fc6ce",
   "metadata": {},
   "outputs": [],
   "source": [
    "def optics_fp(self, lng, lat):\n",
    "    thetar = np.pi / 2.0 - np.deg2rad(lat_deg)\n",
    "    tanth = np.tan(thetar)\n",
    "    cphi = np.cos(np.deg2rad(lng)\n",
    "    sphi = np.sin(np.deg2rad(lng)\n",
    "    rfp0 = self.optcon[icam][0]*tanth\n",
    "    noptcon = len(self.optcon[icam])\n",
    "    ii = np.arange(1, noptcon)\n",
    "    rfp = np.sum(self.optcon[icam][1:] * np.power(tanth, 2.0*(ii-1)))\n",
    "    xytmp = np.zeros((2,), dtype=np.double)\n",
    "    xytmp[0] = -cphi*rfp0*rfp\n",
    "    xytmp[1] = -sphi*rfp0*rfp\n",
    "    return self.make_az_asym(icam, xytmp)"
   ]
  },
  {
   "cell_type": "code",
   "execution_count": 102,
   "id": "8321831b-1997-4f12-baf1-7d597f6ce9d9",
   "metadata": {},
   "outputs": [],
   "source": [
    "def star_in_fov(lng, lat):\n",
    "    vec = np.asarray(sphereToCart(lng, lat))\n",
    "    norm = np.sqrt(np.sum(vec**2, axis=0))\n",
    "    vec = vec / norm\n",
    "    xlen = np.abs(np.arctan(vec[0]/vec[2]))\n",
    "    ylen = np.abs(np.arctan(vec[1]/vec[2]))\n",
    "    inview = (xlen <= np.deg2rad(12.5)) & (ylen <= np.deg2rad(12.5))\n",
    "    return inview"
   ]
  },
  {
   "cell_type": "code",
   "execution_count": 61,
   "id": "227df351-23ca-49a4-9bf8-dae0a8d1556e",
   "metadata": {},
   "outputs": [],
   "source": [
    "j = 0\n",
    "# Do the rotation from ra dec coords to camera coords\n",
    "camVec = np.matmul(self.rmat4, vecs)\n",
    "lng, lat = np.deg2rad(cartToSphere(camVec.T))"
   ]
  },
  {
   "cell_type": "code",
   "execution_count": 64,
   "id": "da130ca5-27a9-4304-bcb3-9f44161cfad3",
   "metadata": {},
   "outputs": [
    {
     "data": {
      "text/plain": [
       "(200,)"
      ]
     },
     "execution_count": 64,
     "metadata": {},
     "output_type": "execute_result"
    }
   ],
   "source": []
  },
  {
   "cell_type": "code",
   "execution_count": null,
   "id": "0c7ac5a8-bfe6-465f-8d63-00d12f5ed926",
   "metadata": {},
   "outputs": [],
   "source": [
    "def radec2pix(self, coords):\n",
    "    \"\"\" After the rotation matrices are defined to the actual\n",
    "        ra and dec to pixel coords mapping\n",
    "    \"\"\"\n",
    "    if self.havePointing == True:\n",
    "        # Convert ra and dec spherical coords to cartesian\n",
    "        vecs = sphereToCart(*coords)\n",
    "        for i in range(nStar):\n",
    "            curVec = np.array([vec0s[i], vec1s[i], vec2s[i]], dtype=np.double)\n",
    "            # Find the new vector in all cameras\n",
    "            for j in range(self.NCAM):\n",
    "                # Do the rotation from ra dec coords to camera coords\n",
    "                camVec = np.matmul(self.rmat4[j], curVec)\n",
    "                # Get the longitude and latitude of camera coords position\n",
    "                lng, lat = self.cartToSphere(camVec)\n",
    "                lng = lng / deg2rad\n",
    "                lat = lat / deg2rad\n",
    "                if self.star_in_fov(lng, lat):\n",
    "                    # Get the xy focal plane position in mm\n",
    "                    xyfp = self.optics_fp(j, lng, lat)\n",
    "                    # Convert mm to pixels\n",
    "                    iccd, ccdpx, fitpx = self.mm_to_pix(j, xyfp)\n",
    "                    inCamera = np.append(inCamera, j+1) # Als code is base 0 convert to base 1\n",
    "                    ccdNum = np.append(ccdNum, iccd+1) # \"\"\n",
    "                    fitsxpos = np.append(fitsxpos, fitpx[0])\n",
    "                    fitsypos = np.append(fitsypos, fitpx[1])\n",
    "                    ccdxpos = np.append(ccdxpos, ccdpx[0])\n",
    "                    ccdypos = np.append(ccdypos, ccdpx[1])\n",
    "\n",
    "    else:\n",
    "        print('Spacecraft Pointing Not specified!')\n"
   ]
  },
  {
   "cell_type": "code",
   "execution_count": null,
   "id": "2914386d-e854-4cfb-8ede-54f84d7fcb87",
   "metadata": {},
   "outputs": [],
   "source": []
  }
 ],
 "metadata": {
  "kernelspec": {
   "display_name": "Python 3 (ipykernel)",
   "language": "python",
   "name": "python3"
  },
  "language_info": {
   "codemirror_mode": {
    "name": "ipython",
    "version": 3
   },
   "file_extension": ".py",
   "mimetype": "text/x-python",
   "name": "python",
   "nbconvert_exporter": "python",
   "pygments_lexer": "ipython3",
   "version": "3.8.7"
  }
 },
 "nbformat": 4,
 "nbformat_minor": 5
}
